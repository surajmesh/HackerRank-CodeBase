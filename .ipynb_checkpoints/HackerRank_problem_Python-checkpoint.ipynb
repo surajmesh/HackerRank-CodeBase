{
 "cells": [
  {
   "cell_type": "code",
   "execution_count": 2,
   "id": "cae90053",
   "metadata": {},
   "outputs": [],
   "source": [
    "# Que.1 "
   ]
  },
  {
   "cell_type": "code",
   "execution_count": 1,
   "id": "eea1ec6f",
   "metadata": {},
   "outputs": [
    {
     "name": "stdout",
     "output_type": "stream",
     "text": [
      "enter the number :56\n",
      "Not Weird\n"
     ]
    }
   ],
   "source": [
    "num = int(input(\"enter the number :\").strip())\n",
    "\n",
    "if (num % 2 != 0) :\n",
    "    print(\"Weird\")\n",
    "else :\n",
    "    if (num >= 2) and ( num <= 5):\n",
    "        print(\"Not Weird\")\n",
    "    elif (num >= 6) and ( num <= 20):\n",
    "        print(\"Weird\")\n",
    "    elif (num > 21):\n",
    "        print(\"Not Weird\")\n",
    "\n",
    "    \n"
   ]
  },
  {
   "cell_type": "code",
   "execution_count": null,
   "id": "1d056b26",
   "metadata": {},
   "outputs": [],
   "source": [
    "# Que.2"
   ]
  },
  {
   "cell_type": "code",
   "execution_count": 2,
   "id": "c08242b0",
   "metadata": {},
   "outputs": [
    {
     "name": "stdout",
     "output_type": "stream",
     "text": [
      "Enter the Year: 2000\n",
      "The 2000 is Leap Year \n"
     ]
    }
   ],
   "source": [
    "year = int(input(\"Enter the Year: \")) \n",
    "\n",
    "if (year % 4 == 0) or (year % 400 == 0) and (year % 100 != 0) :\n",
    "    print(\"The {} is Leap Year \".format(year))\n",
    "else :\n",
    "    print(\"The {} is Not Leap Year\".format(year))\n"
   ]
  },
  {
   "cell_type": "code",
   "execution_count": 14,
   "id": "8fc77487",
   "metadata": {},
   "outputs": [],
   "source": [
    "def is_leap(year):\n",
    "    leap = False \n",
    "    if (year%4==0 and year%100!=0 or year%400==0) :\n",
    "        return True\n",
    "    else :\n",
    "         return leap\n",
    "            "
   ]
  },
  {
   "cell_type": "code",
   "execution_count": 15,
   "id": "03f24169",
   "metadata": {},
   "outputs": [
    {
     "name": "stdout",
     "output_type": "stream",
     "text": [
      "Enter the year : 2100\n"
     ]
    },
    {
     "data": {
      "text/plain": [
       "False"
      ]
     },
     "execution_count": 15,
     "metadata": {},
     "output_type": "execute_result"
    }
   ],
   "source": [
    "year = int(input(\"Enter the year : \"))\n",
    "is_leap(year)"
   ]
  },
  {
   "cell_type": "code",
   "execution_count": null,
   "id": "fe950488",
   "metadata": {},
   "outputs": [],
   "source": [
    "# Que.3 Print the string . eg n = 5 ouput : 12..5"
   ]
  },
  {
   "cell_type": "code",
   "execution_count": 48,
   "id": "a064349b",
   "metadata": {},
   "outputs": [
    {
     "name": "stdout",
     "output_type": "stream",
     "text": [
      "Enter the number: 10\n",
      "12345678910\n"
     ]
    }
   ],
   "source": [
    "n = int(input(\"Enter the number: \"))\n",
    "\n",
    "buket = []\n",
    "for i in range(n):\n",
    "        resul_int = i+1\n",
    "        buket.append(resul_int)\n",
    "        result_str = ''.join(map(str,buket))\n",
    "        \n",
    "print(result_str)\n",
    "    "
   ]
  },
  {
   "cell_type": "code",
   "execution_count": null,
   "id": "82b0aeb1",
   "metadata": {},
   "outputs": [],
   "source": [
    "# Que.4"
   ]
  },
  {
   "cell_type": "code",
   "execution_count": null,
   "id": "4c6792a4",
   "metadata": {},
   "outputs": [],
   "source": []
  },
  {
   "cell_type": "code",
   "execution_count": null,
   "id": "b0eb0536",
   "metadata": {},
   "outputs": [],
   "source": []
  }
 ],
 "metadata": {
  "kernelspec": {
   "display_name": "Python 3 (ipykernel)",
   "language": "python",
   "name": "python3"
  },
  "language_info": {
   "codemirror_mode": {
    "name": "ipython",
    "version": 3
   },
   "file_extension": ".py",
   "mimetype": "text/x-python",
   "name": "python",
   "nbconvert_exporter": "python",
   "pygments_lexer": "ipython3",
   "version": "3.10.0"
  }
 },
 "nbformat": 4,
 "nbformat_minor": 5
}
