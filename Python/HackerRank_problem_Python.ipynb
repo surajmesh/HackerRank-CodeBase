{
 "cells": [
  {
   "cell_type": "code",
   "execution_count": null,
   "id": "cae90053",
   "metadata": {},
   "outputs": [],
   "source": [
    "# Que.1 "
   ]
  },
  {
   "cell_type": "code",
   "execution_count": null,
   "id": "eea1ec6f",
   "metadata": {},
   "outputs": [],
   "source": [
    "num = int(input(\"enter the number :\").strip())\n",
    "\n",
    "if (num % 2 != 0) :\n",
    "    print(\"Weird\")\n",
    "else :\n",
    "    if (num >= 2) and ( num <= 5):\n",
    "        print(\"Not Weird\")\n",
    "    elif (num >= 6) and ( num <= 20):\n",
    "        print(\"Weird\")\n",
    "    elif (num > 21):\n",
    "        print(\"Not Weird\")\n",
    "\n",
    "    \n"
   ]
  },
  {
   "cell_type": "code",
   "execution_count": null,
   "id": "1d056b26",
   "metadata": {},
   "outputs": [],
   "source": [
    "# Que.2"
   ]
  },
  {
   "cell_type": "code",
   "execution_count": null,
   "id": "c08242b0",
   "metadata": {},
   "outputs": [],
   "source": [
    "year = int(input(\"Enter the Year: \")) \n",
    "\n",
    "if (year % 4 == 0) or (year % 400 == 0) and (year % 100 != 0) :\n",
    "    print(\"The {} is Leap Year \".format(year))\n",
    "else :\n",
    "    print(\"The {} is Not Leap Year\".format(year))\n"
   ]
  },
  {
   "cell_type": "code",
   "execution_count": null,
   "id": "8fc77487",
   "metadata": {},
   "outputs": [],
   "source": [
    "def is_leap(year):\n",
    "    leap = False \n",
    "    if (year%4==0 and year%100!=0 or year%400==0) :\n",
    "        return True\n",
    "    else :\n",
    "         return leap\n",
    "            "
   ]
  },
  {
   "cell_type": "code",
   "execution_count": null,
   "id": "03f24169",
   "metadata": {},
   "outputs": [],
   "source": [
    "year = int(input(\"Enter the year : \"))\n",
    "is_leap(year)"
   ]
  },
  {
   "cell_type": "code",
   "execution_count": null,
   "id": "fe950488",
   "metadata": {},
   "outputs": [],
   "source": [
    "# Que.3 Print the string . eg n = 5 ouput : 12..5"
   ]
  },
  {
   "cell_type": "code",
   "execution_count": null,
   "id": "a064349b",
   "metadata": {},
   "outputs": [],
   "source": [
    "n = int(input(\"Enter the number: \"))\n",
    "\n",
    "buket = []\n",
    "for i in range(n):\n",
    "        resul_int = i+1\n",
    "        buket.append(resul_int)\n",
    "        result_str = ''.join(map(str,buket))\n",
    "        \n",
    "print(result_str)\n",
    "    "
   ]
  },
  {
   "cell_type": "code",
   "execution_count": null,
   "id": "82b0aeb1",
   "metadata": {},
   "outputs": [],
   "source": [
    "# Que.4 \n",
    "\"\"\"\"Task\n",
    "Read in two integers,  and , and print three lines.\n",
    "The first line is the integer division  (While using Python2 remember to import division from __future__).\n",
    "The second line is the result of the modulo operator: .\n",
    "The third line prints the divmod of  and .\"\"\"\""
   ]
  },
  {
   "cell_type": "code",
   "execution_count": null,
   "id": "4c6792a4",
   "metadata": {},
   "outputs": [],
   "source": [
    "a = int(input())\n",
    "b = int(input())\n",
    "\n",
    "divMod = list(divmod(a,b))\n",
    "for i in divMod:\n",
    "    print(i)\n",
    "    \n",
    "print(divmod(a,b))\n",
    "\n",
    "\n",
    "\n"
   ]
  },
  {
   "cell_type": "code",
   "execution_count": null,
   "id": "7b5b700e",
   "metadata": {},
   "outputs": [],
   "source": [
    "a=int(input(\"enter the a number : \"))\n",
    "b=int(input(\"enter the b number : \"))\n",
    "m=int(input(\"enter the m number : \"))\n",
    "\n",
    "print(pow(a,b))\n",
    "print(pow(a,b,m))\n"
   ]
  },
  {
   "cell_type": "markdown",
   "id": "7448bcf2",
   "metadata": {},
   "source": [
    "# List Compression"
   ]
  },
  {
   "cell_type": "code",
   "execution_count": null,
   "id": "9054ae82",
   "metadata": {},
   "outputs": [],
   "source": [
    "fruits = [\"apple\", \"banana\", \"cherry\", \"kiwi\", \"mango\"]\n",
    "newlist = [] \n",
    "\n",
    "for index in range(len(fruits)):\n",
    "    print(index,\"=\",fruits[index])\n",
    "    \n",
    "    "
   ]
  },
  {
   "cell_type": "code",
   "execution_count": null,
   "id": "01004fd4",
   "metadata": {},
   "outputs": [],
   "source": [
    "# Containing only the fruits with the letter \"a\" in the name\n",
    "\n",
    "fruits = [\"apple\", \"banana\", \"cherry\", \"kiwi\", \"mango\"]\n",
    "newlist = [] \n",
    "\n",
    "for i in fruits:\n",
    "    if \"a\"  not in i:\n",
    "        newlist.append(i)\n",
    "\n",
    "print(newlist)"
   ]
  },
  {
   "cell_type": "code",
   "execution_count": null,
   "id": "47dd407e",
   "metadata": {},
   "outputs": [],
   "source": [
    "# Que\n",
    "\n",
    "\"\"\"Let’s learn about list comprehension! You are given three integers x, y, and z representing the dimensions of a cuboid\n",
    "along with an integer n. Print a list of all possible coordinates given by (i, j, k) on a 3D grid \n",
    "where the sum of i + j + k is not equal to n. Here, 0 <= i <= x; 0 <= j <= y; 0 <= k <= z. \n",
    "Please use list comprehensions rather than multiple loops, as a learning exercise.\"\"\""
   ]
  },
  {
   "cell_type": "code",
   "execution_count": null,
   "id": "ba88f09a",
   "metadata": {},
   "outputs": [],
   "source": [
    "x = int(input())\n",
    "y = int(input())\n",
    "z = int(input())\n",
    "n = int(input())\n",
    "\n",
    "All_Comb = [ [i,j,k] for i in range(x+1)  for j in range(y+1) for k in range(z+1) if x+y+z != n ]\n",
    "print(All_Comb)\n"
   ]
  },
  {
   "cell_type": "code",
   "execution_count": null,
   "id": "a4deffc2",
   "metadata": {},
   "outputs": [],
   "source": [
    "# Que .\n",
    "\"\"\"Given the participants' score sheet for your University Sports Day, you are required to\n",
    "find the runner-up score. You are given  scores. Store them in a list and find the score of the runner-up.\"\"\""
   ]
  },
  {
   "cell_type": "code",
   "execution_count": null,
   "id": "3d4a6ce2",
   "metadata": {},
   "outputs": [],
   "source": [
    "n = 5 \n",
    "arr = [2 ,3 , 6, 6, 5,10,10]\n",
    "\n",
    "\n",
    "\n",
    "for i in range(1,len(arr)):\n",
    "    mx = arr[0]\n",
    "    if arr[i] > mx :\n",
    "        mx = arr[i]\n",
    "\n",
    "print(mx)\n",
    "    \n",
    "    "
   ]
  },
  {
   "cell_type": "code",
   "execution_count": null,
   "id": "f45d4f00",
   "metadata": {},
   "outputs": [],
   "source": [
    "\n",
    "arr = [2, 5, 1, 7, 3, 8, 4, 6]\n",
    "\n",
    "unique_score = list(set(arr))\n",
    "#print(unique_score)\n",
    "unique_score.sort(reverse=False)\n",
    "\n",
    "print(unique_score)\n"
   ]
  },
  {
   "cell_type": "code",
   "execution_count": null,
   "id": "5b39a29c",
   "metadata": {},
   "outputs": [],
   "source": [
    "# Example list of scores\n",
    "scores = [2, 5, 1, 7, 3, 8, 4, 6]\n",
    "\n",
    "# Remove duplicates by converting the list to a set and then back to a list\n",
    "unique_scores = list(set(scores))\n",
    "\n",
    "# Sort the unique scores in descending order\n",
    "unique_scores.sort(reverse=True)\n",
    "\n",
    "# The runner-up score is the second element in the sorted unique scores list\n",
    "runner_up_score = unique_scores[1]\n",
    "\n",
    "print(\"Runner-up Score:\", runner_up_score)"
   ]
  },
  {
   "cell_type": "code",
   "execution_count": null,
   "id": "921eaec1",
   "metadata": {},
   "outputs": [],
   "source": [
    "#Que. \n",
    "\"\"\"Given the names and grades for each student in a class of  students, \n",
    "store them in a nested list and print the name(s) of any student(s) having the second lowest grade.\"\"\""
   ]
  },
  {
   "cell_type": "code",
   "execution_count": 4,
   "id": "fb64d401",
   "metadata": {},
   "outputs": [
    {
     "name": "stdout",
     "output_type": "stream",
     "text": [
      "Berry\n",
      "Harry\n",
      "Akriti\n",
      "Harsh\n",
      "Berry\n",
      "Harry\n",
      "Akriti\n",
      "Harsh\n",
      "Berry\n",
      "Harry\n"
     ]
    }
   ],
   "source": [
    "n = 5\n",
    "python_student = [['Harry', 5.0], ['Berry', 10.21], ['Tine', 37.2], ['Akriti', 41.0], ['Harsh', 39.0]]\n",
    "for i in range(len(python_student)):\n",
    "    python_student.reverse()\n",
    "    two_lowest_Score = python_student[-2:]\n",
    "    for item in two_lowest_Score:\n",
    "        print(item[0])\n",
    "    \n",
    "  \n",
    "    \n",
    "    \n",
    "\n",
    "    \n"
   ]
  },
  {
   "cell_type": "code",
   "execution_count": null,
   "id": "a32ef75f",
   "metadata": {},
   "outputs": [],
   "source": [
    "python_student = [['Harry', 5.0], ['Berry', 10.21], ['Tine', 37.2], ['Akriti', 41.0], ['Harsh', 39.0]]\n",
    "\n",
    "python_student.reverse()\n",
    "\n",
    "two_lowest_Score = python_student[-2:]\n",
    "\n",
    "for i in two_lowest_Score :\n",
    "    print(i[0])\n"
   ]
  },
  {
   "cell_type": "code",
   "execution_count": null,
   "id": "bcbd5d57",
   "metadata": {},
   "outputs": [],
   "source": []
  },
  {
   "cell_type": "code",
   "execution_count": null,
   "id": "b9cf3f36",
   "metadata": {},
   "outputs": [],
   "source": []
  },
  {
   "cell_type": "code",
   "execution_count": null,
   "id": "4b13ed40",
   "metadata": {},
   "outputs": [],
   "source": []
  },
  {
   "cell_type": "code",
   "execution_count": null,
   "id": "5dc44604",
   "metadata": {},
   "outputs": [],
   "source": []
  },
  {
   "cell_type": "code",
   "execution_count": null,
   "id": "7204b004",
   "metadata": {},
   "outputs": [],
   "source": []
  },
  {
   "cell_type": "code",
   "execution_count": null,
   "id": "207fc93d",
   "metadata": {},
   "outputs": [],
   "source": []
  }
 ],
 "metadata": {
  "kernelspec": {
   "display_name": "Python 3 (ipykernel)",
   "language": "python",
   "name": "python3"
  },
  "language_info": {
   "codemirror_mode": {
    "name": "ipython",
    "version": 3
   },
   "file_extension": ".py",
   "mimetype": "text/x-python",
   "name": "python",
   "nbconvert_exporter": "python",
   "pygments_lexer": "ipython3",
   "version": "3.10.0"
  }
 },
 "nbformat": 4,
 "nbformat_minor": 5
}
